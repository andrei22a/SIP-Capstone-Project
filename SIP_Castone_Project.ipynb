{
 "cells": [
  {
   "cell_type": "markdown",
   "metadata": {},
   "source": [
    "# **SIC Capstone Project**"
   ]
  },
  {
   "cell_type": "markdown",
   "metadata": {},
   "source": [
    "*Supermarket Project*"
   ]
  },
  {
   "cell_type": "markdown",
   "metadata": {},
   "source": [
    "### **Class Hierarchy**"
   ]
  },
  {
   "cell_type": "markdown",
   "metadata": {},
   "source": [
    "#### Agent"
   ]
  },
  {
   "cell_type": "code",
   "execution_count": 1,
   "metadata": {},
   "outputs": [],
   "source": [
    "class Agent:\n",
    "    \"\"\"Clase base para todos los agentes en el sistema.\"\"\"\n",
    "    \n",
    "    def __init__(self, name):\n",
    "        self.name = name\n",
    "\n",
    "    def describe(self):\n",
    "        return f\"Agent: {self.name}\""
   ]
  },
  {
   "cell_type": "markdown",
   "metadata": {},
   "source": [
    "#### Client"
   ]
  },
  {
   "cell_type": "code",
   "execution_count": 2,
   "metadata": {},
   "outputs": [],
   "source": [
    "class Client(Agent):\n",
    "    \"\"\"Clase que representa a un cliente que interactúa con el supermercado.\"\"\"\n",
    "\n",
    "    def __init__(self, name):\n",
    "        super().__init__(name)\n",
    "\n",
    "    #********************************************************\n",
    "    #***** Completar con las funcionalidades requeridas *****\n",
    "    #********************************************************                    "
   ]
  },
  {
   "cell_type": "markdown",
   "metadata": {},
   "source": [
    "#### Supermarket"
   ]
  },
  {
   "cell_type": "code",
   "execution_count": null,
   "metadata": {},
   "outputs": [],
   "source": [
    "class Supermarket(Agent):\n",
    "    \"\"\"Clase que representa un supermercado\"\"\"\n",
    "    def __init_(self, name):\n",
    "        super().__init__(name)\n",
    "\n",
    "    #********************************************************\n",
    "    #***** Completar con las funcionalidades requeridas *****\n",
    "    #********************************************************   "
   ]
  },
  {
   "cell_type": "markdown",
   "metadata": {},
   "source": [
    "#### CitySimulation"
   ]
  },
  {
   "cell_type": "code",
   "execution_count": null,
   "metadata": {},
   "outputs": [],
   "source": [
    "class CitySimulation:\n",
    "    \"\"\"Clase principal para gestionar la simulación de la ciudad.\"\"\"\n",
    "    \n",
    "    def add_agent(self, agent_type, agent_name):\n",
    "        \"\"\"Añade un nuevo agente al sistema.\"\"\"\n",
    "        if agent_type == 'client':\n",
    "            agents[agent_name] = Client(agent_name)\n",
    "        elif agent_type == 'town_hall':\n",
    "            agents[agent_name] = TownHall(agent_name)\n",
    "        print(f'{agent_type.capitalize()} {agent_name} added to the system.')\n",
    "\n",
    "    def remove_agent(self, agent_name):\n",
    "        \"\"\"Elimina un agente del sistema.\"\"\"\n",
    "        if agent_name in agents:\n",
    "            del agents[agent_name]\n",
    "            print(f'Agent {agent_name} removed from the system.')\n",
    "        else:\n",
    "            print(f'Agent {agent_name} not found.')\n",
    "\n",
    "    def list_agents(self):\n",
    "        \"\"\"Muestra todos los agentes en el sistema.\"\"\"\n",
    "        print(\"Current agents:\")\n",
    "        for agent in agents.values():\n",
    "            print(agent.describe())\n",
    "\n",
    "    def help(self):\n",
    "        \"\"\"Muestra la lista de comandos disponibles.\"\"\"\n",
    "        print(\"\"\"\n",
    "            Available commands:\n",
    "            - supermarket add <supermarket_name>: Agregar un nuevo supermercado al sistema.\n",
    "            - supermarket add_product <supermarket_name> <product_name>: Agregar un producto al inventario del supermercado.\n",
    "            - client add <client_name>: Agregar un cliente al sistema.\n",
    "            - client move <client_name> <to_supermarket>: Mover a un cliente a un supermercado específico.\n",
    "            - client pick_up <client_name> <product_name>: Permitir que un cliente recoja un producto.\n",
    "            - supermarket show_clients <supermarket_name>: Mostrar la lista de clientes en el supermercado.\n",
    "            - supermarket show_products <supermarket_name>: Mostrar la lista de productos en el supermercado.\n",
    "            - supermarket restock <supermarket_name> <product_name> : Reabastecer un producto en el supermercado.\n",
    "            - client buy <client_name> <product_name>: Comprar un producto y agregarlo a la cesta del cliente.\n",
    "            - client show_cart <client_name>: Mostrar los productos en la cesta del cliente.\n",
    "            - client checkout <client_name>: Preparar al cliente para pagar en caja.\n",
    "            - supermarket show_clients_in_cash <supermarket_name>: Mostrar la lista de clientes en la caja.\n",
    "            - supermarket serve_next_customer <supermarket_name>: Atender al siguiente cliente en la fila de caja.\n",
    "            - client leave <client_name>: Permitir que un cliente salga del supermercado, siempre que haya pagado.\n",
    "            - client leave_without_checkout <client_name>: Permitir que un cliente salga sin comprar, si su cesta está vacía.\n",
    "            - client check_cart <client_name> <product_name>: Verificar si un producto está en la cesta del cliente.\n",
    "            - supermarket set_open_close <supermarket_name> <open/close>: Abrir / Cerrar el supermercado si no hay clientes dentro.\n",
    "            - supermarket show_inventory <supermarket_name>: Mostrar todo el inventario del supermercado.\n",
    "            - client remove_from_cart <client_name> <product_name>: Permitir que el cliente retire un producto de su cesta.\n",
    "            - client get_in_line <client_name>: Permitir que un cliente se ponga en la fila para pagar.\n",
    "            \"\"\")            \n",
    "\n",
    "    def command_loop(self):\n",
    "        \"\"\"Bucle principal para gestionar comandos del usuario.\"\"\"\n",
    "        print(\"Starting city simulation... Type 'q' to exit\")\n",
    "        while True:\n",
    "            command = input('> ')\n",
    "            if command == 'q':\n",
    "                break\n",
    "            self.process_command(command)\n",
    "\n",
    "    def process_command(self, command):\n",
    "        \"\"\"Procesa los comandos ingresados por el usuario.\"\"\"\n",
    "        parts = command.split()\n",
    "        if not parts:\n",
    "            return\n",
    "        \n",
    "        cmd = parts[0]\n",
    "        \n",
    "        if cmd == '?':\n",
    "            self.help()  # Llama al método de ayuda\n",
    "            return\n",
    "        \n",
    "        # supermarket commands\n",
    "        elif cmd == 'supermarket':\n",
    "\n",
    "            #********************************************************\n",
    "            #***** Completar con las funcionalidades requeridas *****\n",
    "            #********************************************************\n",
    "\n",
    "            if parts[1] == 'add':\n",
    "                pass\n",
    "\n",
    "            elif parts[1] == 'add_product':\n",
    "                pass\n",
    "\n",
    "            elif parts[1] == 'show_clients':\n",
    "                pass\n",
    "\n",
    "            elif parts[1] == 'show_products':\n",
    "                pass\n",
    "\n",
    "            elif parts[1] == 'restock':\n",
    "                pass\n",
    "\n",
    "            elif parts[1] == 'show_clients_in_cash':\n",
    "                pass\n",
    "\n",
    "            elif parts[1] == 'serve_next_customer':\n",
    "                pass\n",
    "\n",
    "            elif parts[1] == 'set_open_close':\n",
    "                pass\n",
    "\n",
    "            elif parts[1] == 'show_inventory':\n",
    "                pass\n",
    "\n",
    "\n",
    "\n",
    "        # client commands\n",
    "        elif cmd == 'client':\n",
    "            if parts[1] == 'add_client':\n",
    "                try:\n",
    "                    _, _, client_name = parts\n",
    "                    self.add_agent('client', client_name)\n",
    "                except ValueError:\n",
    "                    print(\"Error: Invalid add command format. Use 'client add <client_name>'\")\n",
    "\n",
    "            elif parts[1] == 'remove_client':\n",
    "                try:\n",
    "                    _, _, client_name = parts\n",
    "                    self.remove_agent(client_name)\n",
    "                except ValueError:\n",
    "                    print(\"Error: Invalid remove_client command format. Use 'client remove_client <client_name>'\")\n",
    "\n",
    "            #********************************************************\n",
    "            #***** Completar con las funcionalidades requeridas *****\n",
    "            #********************************************************\n",
    "            \n",
    "            elif parts[1] == 'move':\n",
    "                pass\n",
    "\n",
    "            elif parts[1] == 'pick_up':\n",
    "                pass\n",
    "\n",
    "            elif parts[1] == 'buy':\n",
    "                pass\n",
    "\n",
    "            elif parts[1] == 'show_cart':\n",
    "                pass\n",
    "\n",
    "            elif parts[1] == 'checkout':\n",
    "                pass\n",
    "\n",
    "            elif parts[1] == 'leave':\n",
    "                pass\n",
    "\n",
    "            elif parts[1] == 'leave_without_checkout':\n",
    "                pass\n",
    "\n",
    "            elif parts[1] == 'check_cart':\n",
    "                pass\n",
    "\n",
    "            elif parts[1] == 'remove_from_cart':\n",
    "                pass\n",
    "\n",
    "            elif parts[1] == 'get_in_line':\n",
    "                pass\n",
    "\n",
    "        else:\n",
    "            print(\"Unknown command. Type 'help' for a list of commands.\")"
   ]
  },
  {
   "cell_type": "markdown",
   "metadata": {},
   "source": [
    "### **Diccionario global para almacenar agentes**"
   ]
  },
  {
   "cell_type": "code",
   "execution_count": null,
   "metadata": {},
   "outputs": [],
   "source": [
    "agents = {}"
   ]
  },
  {
   "cell_type": "markdown",
   "metadata": {},
   "source": [
    "### **Main program**"
   ]
  },
  {
   "cell_type": "code",
   "execution_count": null,
   "metadata": {},
   "outputs": [],
   "source": [
    "if __name__ == \"__main__\":\n",
    "    simulation = CitySimulation()\n",
    "    simulation.command_loop()"
   ]
  }
 ],
 "metadata": {
  "kernelspec": {
   "display_name": "base",
   "language": "python",
   "name": "python3"
  },
  "language_info": {
   "codemirror_mode": {
    "name": "ipython",
    "version": 3
   },
   "file_extension": ".py",
   "mimetype": "text/x-python",
   "name": "python",
   "nbconvert_exporter": "python",
   "pygments_lexer": "ipython3",
   "version": "3.12.4"
  }
 },
 "nbformat": 4,
 "nbformat_minor": 2
}
